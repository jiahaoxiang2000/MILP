{
 "cells": [
  {
   "cell_type": "markdown",
   "metadata": {},
   "source": [
    "# bit-wise differential cryptanalysis\n",
    "\n",
    "reference: [Automatic security evaluation and (related-key) differential characteristic search: application to SIMON, PRESENT, LBlock, DES (L) and other bit-oriented block ciphers](https://eprint.iacr.org/2013/676.pdf)\n",
    "\n",
    "doc: [Automatic security evaluation and (related-key) differential characteristic search](https://www.yuque.com/xjh2000/cipher-paper/qwy5gv6r3qrutryb?singleDoc#)\n"
   ]
  },
  {
   "cell_type": "markdown",
   "metadata": {},
   "source": [
    "## Convex hull for the S-box\n",
    "\n",
    "detail see [Convex hull for the S-box](https://www.yuque.com/xjh2000/cipher-paper/qwy5gv6r3qrutryb?singleDoc#Kqr9l)"
   ]
  },
  {
   "cell_type": "code",
   "execution_count": 6,
   "metadata": {},
   "outputs": [],
   "source": [
    "from sage.all import *"
   ]
  },
  {
   "cell_type": "code",
   "execution_count": 5,
   "metadata": {},
   "outputs": [
    {
     "name": "stdout",
     "output_type": "stream",
     "text": [
      "[(0, 0, 0, 0, 0, 0, 0, 0), (0, 0, 0, 1, 0, 0, 1, 1), (0, 0, 0, 1, 0, 1, 1, 1), (0, 0, 0, 1, 1, 0, 0, 1), (0, 0, 0, 1, 1, 1, 0, 1), (0, 0, 1, 0, 0, 0, 1, 1), (0, 0, 1, 0, 0, 1, 0, 1), (0, 0, 1, 0, 0, 1, 1, 0), (0, 0, 1, 0, 1, 0, 1, 0), (0, 0, 1, 0, 1, 1, 0, 0), (0, 0, 1, 0, 1, 1, 0, 1), (0, 0, 1, 0, 1, 1, 1, 0), (0, 0, 1, 1, 0, 0, 0, 1), (0, 0, 1, 1, 0, 0, 1, 1), (0, 0, 1, 1, 0, 1, 0, 0), (0, 0, 1, 1, 0, 1, 1, 0), (0, 0, 1, 1, 0, 1, 1, 1), (0, 0, 1, 1, 1, 0, 1, 0), (0, 0, 1, 1, 1, 0, 1, 1), (0, 1, 0, 0, 0, 1, 0, 1), (0, 1, 0, 0, 0, 1, 1, 0), (0, 1, 0, 0, 0, 1, 1, 1), (0, 1, 0, 0, 1, 0, 0, 1), (0, 1, 0, 0, 1, 0, 1, 0), (0, 1, 0, 0, 1, 1, 0, 0), (0, 1, 0, 0, 1, 1, 1, 0), (0, 1, 0, 1, 0, 0, 0, 1), (0, 1, 0, 1, 0, 1, 0, 0), (0, 1, 0, 1, 1, 0, 0, 1), (0, 1, 0, 1, 1, 0, 1, 0), (0, 1, 0, 1, 1, 0, 1, 1), (0, 1, 0, 1, 1, 1, 0, 0), (0, 1, 0, 1, 1, 1, 0, 1), (0, 1, 1, 0, 0, 0, 1, 0), (0, 1, 1, 0, 0, 1, 1, 0), (0, 1, 1, 0, 1, 0, 0, 0), (0, 1, 1, 0, 1, 0, 1, 1), (0, 1, 1, 0, 1, 1, 0, 0), (0, 1, 1, 0, 1, 1, 1, 1), (0, 1, 1, 1, 0, 0, 0, 1), (0, 1, 1, 1, 0, 0, 1, 0), (0, 1, 1, 1, 0, 1, 1, 0), (0, 1, 1, 1, 1, 0, 0, 0), (0, 1, 1, 1, 1, 1, 0, 0), (0, 1, 1, 1, 1, 1, 1, 1), (1, 0, 0, 0, 0, 0, 1, 1), (1, 0, 0, 0, 0, 1, 1, 1), (1, 0, 0, 0, 1, 0, 0, 1), (1, 0, 0, 0, 1, 0, 1, 1), (1, 0, 0, 0, 1, 1, 0, 1), (1, 0, 0, 0, 1, 1, 1, 1), (1, 0, 0, 1, 0, 0, 1, 0), (1, 0, 0, 1, 0, 1, 0, 0), (1, 0, 0, 1, 0, 1, 1, 0), (1, 0, 0, 1, 1, 0, 0, 0), (1, 0, 0, 1, 1, 1, 0, 0), (1, 0, 0, 1, 1, 1, 1, 0), (1, 0, 1, 0, 0, 0, 1, 0), (1, 0, 1, 0, 0, 0, 1, 1), (1, 0, 1, 0, 0, 1, 0, 1), (1, 0, 1, 0, 1, 0, 0, 0), (1, 0, 1, 0, 1, 0, 1, 0), (1, 0, 1, 0, 1, 1, 0, 1), (1, 0, 1, 0, 1, 1, 1, 0), (1, 0, 1, 1, 0, 0, 0, 1), (1, 0, 1, 1, 0, 1, 0, 0), (1, 0, 1, 1, 1, 0, 0, 0), (1, 0, 1, 1, 1, 0, 0, 1), (1, 0, 1, 1, 1, 0, 1, 0), (1, 0, 1, 1, 1, 0, 1, 1), (1, 0, 1, 1, 1, 1, 0, 1), (1, 1, 0, 0, 0, 0, 1, 0), (1, 1, 0, 0, 0, 1, 0, 1), (1, 1, 0, 0, 0, 1, 1, 1), (1, 1, 0, 0, 1, 0, 0, 0), (1, 1, 0, 0, 1, 0, 0, 1), (1, 1, 0, 0, 1, 0, 1, 0), (1, 1, 0, 0, 1, 1, 1, 0), (1, 1, 0, 1, 0, 0, 0, 1), (1, 1, 0, 1, 0, 0, 1, 0), (1, 1, 0, 1, 0, 0, 1, 1), (1, 1, 0, 1, 0, 1, 0, 0), (1, 1, 0, 1, 0, 1, 1, 1), (1, 1, 0, 1, 1, 0, 1, 0), (1, 1, 0, 1, 1, 0, 1, 1), (1, 1, 1, 0, 0, 0, 1, 0), (1, 1, 1, 0, 0, 0, 1, 1), (1, 1, 1, 0, 0, 1, 1, 0), (1, 1, 1, 0, 0, 1, 1, 1), (1, 1, 1, 0, 1, 0, 0, 0), (1, 1, 1, 0, 1, 0, 0, 1), (1, 1, 1, 0, 1, 1, 0, 0), (1, 1, 1, 0, 1, 1, 0, 1), (1, 1, 1, 1, 0, 0, 0, 1), (1, 1, 1, 1, 0, 1, 0, 0), (1, 1, 1, 1, 1, 1, 1, 0), (1, 1, 1, 1, 1, 1, 1, 1)]\n"
     ]
    }
   ],
   "source": [
    "# read the file\n",
    "\n",
    "# Initialize an empty list to store the vectors\n",
    "vectors = []\n",
    "\n",
    "# Open the file for reading\n",
    "with open('data/present_sbox.txt', 'r') as file:\n",
    "    # Iterate over each line in the file\n",
    "    for line in file:\n",
    "        # Strip whitespace and the trailing comma, then remove parentheses\n",
    "        cleaned_line = line.strip().rstrip(',').strip('()')\n",
    "        # Split the line by comma to get individual numbers, convert them to integers, and create a tuple\n",
    "        vector = tuple(map(int, cleaned_line.split(', ')))\n",
    "        # Append the tuple to the list of vectors\n",
    "        vectors.append(vector)\n",
    "\n",
    "# vectors now contains the list of tuples\n",
    "print(vectors)"
   ]
  },
  {
   "cell_type": "code",
   "execution_count": 12,
   "metadata": {},
   "outputs": [
    {
     "name": "stdout",
     "output_type": "stream",
     "text": [
      "327\n"
     ]
    }
   ],
   "source": [
    "# Example: Create a polyhedron representing a cube\n",
    "P = Polyhedron(vertices=vectors)\n",
    "\n",
    "# Step 3: Use the inequality_generator() method\n",
    "inequalities = list(P.inequality_generator())\n",
    "\n",
    "# Step 4: Iterate over the inequalities\n",
    "print(len(inequalities))"
   ]
  }
 ],
 "metadata": {
  "kernelspec": {
   "display_name": "gurobi",
   "language": "python",
   "name": "python3"
  },
  "language_info": {
   "codemirror_mode": {
    "name": "ipython",
    "version": 3
   },
   "file_extension": ".py",
   "mimetype": "text/x-python",
   "name": "python",
   "nbconvert_exporter": "python",
   "pygments_lexer": "ipython3",
   "version": "3.11.8"
  }
 },
 "nbformat": 4,
 "nbformat_minor": 2
}
